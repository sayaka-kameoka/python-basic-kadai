{
  "nbformat": 4,
  "nbformat_minor": 0,
  "metadata": {
    "colab": {
      "provenance": []
    },
    "kernelspec": {
      "name": "python3",
      "display_name": "Python 3"
    },
    "language_info": {
      "name": "python"
    }
  },
  "cells": [
    {
      "cell_type": "code",
      "execution_count": 1,
      "metadata": {
        "colab": {
          "base_uri": "https://localhost:8080/"
        },
        "id": "NhzkXXRHg88n",
        "outputId": "73e2336b-1792-4db6-e8fc-6e9a75818a66"
      },
      "outputs": [
        {
          "output_type": "stream",
          "name": "stdout",
          "text": [
            "税込価格は 121.0 円です\n"
          ]
        }
      ],
      "source": [
        "# 商品の価格と消費税率を受け取り、税込み価格を返す関数\n",
        "def calc_tax_included(price, tax_rate):\n",
        "    tax_included_price = price + (price * tax_rate / 100)\n",
        "    return tax_included_price\n",
        "\n",
        "# 商品価格と消費税率を指定\n",
        "price = 110       # 商品の金額（円）\n",
        "tax_rate = 10     # 消費税率（%）\n",
        "\n",
        "# 関数を使って税込み価格を計算\n",
        "total_price = calc_tax_included(price, tax_rate)\n",
        "\n",
        "# 結果を表示\n",
        "print(\"税込価格は\", total_price, \"円です\")\n"
      ]
    },
    {
      "cell_type": "code",
      "source": [],
      "metadata": {
        "id": "vujOLc4fhYyQ"
      },
      "execution_count": null,
      "outputs": []
    }
  ]
}