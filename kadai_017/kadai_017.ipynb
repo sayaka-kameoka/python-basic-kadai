{
  "nbformat": 4,
  "nbformat_minor": 0,
  "metadata": {
    "colab": {
      "provenance": []
    },
    "kernelspec": {
      "name": "python3",
      "display_name": "Python 3"
    },
    "language_info": {
      "name": "python"
    }
  },
  "cells": [
    {
      "cell_type": "code",
      "execution_count": 6,
      "metadata": {
        "colab": {
          "base_uri": "https://localhost:8080/"
        },
        "id": "lqONfzZ60BSA",
        "outputId": "8a3b5b36-c394-4258-9a67-0ca53b3339ac"
      },
      "outputs": [
        {
          "output_type": "stream",
          "name": "stdout",
          "text": [
            "侍太郎さんは大人である\n",
            "侍花子さんは大人でない\n",
            "侍一郎さんは大人である\n",
            "侍次郎さんは大人でない\n"
          ]
        }
      ],
      "source": [
        "#名前(name)と年齢(age)の属性を持つHumanクラスを作成\n",
        "class Human:\n",
        "  # コンストラクタを定義する\n",
        "    def __init__(self, name, age):\n",
        "        self.name = name\n",
        "        self.age = age\n",
        "\n",
        "#標準出力(print)するcheck_adultメソッド\n",
        "    def check_adult(self):\n",
        "       if self.age >= 20 :\n",
        "         print(f\"{self.name}さんは大人である\")\n",
        "       else:\n",
        "         print(f\"{self.name}さんは大人でない\")\n",
        "\n",
        "\n",
        "# Humanインスタンスを複数作成してリストに追加\n",
        "people = [\n",
        "    Human(\"侍太郎\", 36),\n",
        "    Human(\"侍花子\", 18),\n",
        "    Human(\"侍一郎\", 22),\n",
        "    Human(\"侍次郎\", 15)\n",
        "]\n",
        "\n",
        "# リストの各要素に対して check_adult メソッドを呼び出す\n",
        "for person in people:\n",
        "    person.check_adult()"
      ]
    }
  ]
}