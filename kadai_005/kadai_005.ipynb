{
  "nbformat": 4,
  "nbformat_minor": 0,
  "metadata": {
    "colab": {
      "provenance": []
    },
    "kernelspec": {
      "name": "python3",
      "display_name": "Python 3"
    },
    "language_info": {
      "name": "python"
    }
  },
  "cells": [
    {
      "cell_type": "code",
      "execution_count": null,
      "metadata": {
        "colab": {
          "base_uri": "https://localhost:8080/"
        },
        "id": "EMqOaoG8i-bA",
        "outputId": "54cf17aa-af54-44bd-8bf4-a3b55ac0840c"
      },
      "outputs": [
        {
          "output_type": "stream",
          "name": "stdout",
          "text": [
            "台形の面積は 75.0 cm²です\n"
          ]
        }
      ],
      "source": [
        "# 上辺・下辺・高さの定義\n",
        "upper = 10  # 上辺（cm）\n",
        "lower = 20  # 下辺（cm）\n",
        "height = 5  # 高さ（cm）\n",
        "\n",
        "# 面積の計算（公式： (上辺 + 下辺) × 高さ ÷ 2）\n",
        "area = (upper + lower) * height / 2\n",
        "\n",
        "# 結果を表示\n",
        "print(\"台形の面積は\", area, \"cm²です\")\n"
      ]
    },
    {
      "cell_type": "code",
      "source": [
        "# 上辺・下辺・高さの定義\n",
        "upper = 10     # 上辺（cm）\n",
        "lower = 20     # 下辺（cm）\n",
        "height = 5     # 高さ（cm）\n",
        "\n",
        "# 面積を計算して変数に代入\n",
        "area = (upper + lower) * height / 2\n",
        "\n",
        "# area を他の計算や表示に利用\n",
        "message = f\"台形の面積は {area} cm² です\"\n",
        "print(message)\n"
      ],
      "metadata": {
        "colab": {
          "base_uri": "https://localhost:8080/"
        },
        "id": "ovQvVOnklnOT",
        "outputId": "ad614886-3cd0-49f4-e3b1-68a2ecd27f26"
      },
      "execution_count": null,
      "outputs": [
        {
          "output_type": "stream",
          "name": "stdout",
          "text": [
            "台形の面積は 75.0 cm² です\n"
          ]
        }
      ]
    },
    {
      "cell_type": "code",
      "source": [
        "#上辺：10cm\n",
        "#下辺：20cm\n",
        "#高さ：5cm\n",
        "上辺=10\n",
        "下辺=20\n",
        "高さ=5\n",
        "\n",
        "#公式：台形の面積 =（上辺＋下辺）× 高さ ÷ 2\n",
        "面積 = (上辺 + 下辺) * 高さ / 2\n",
        "\n",
        "print(f\"{面積}㎠\")\n"
      ],
      "metadata": {
        "colab": {
          "base_uri": "https://localhost:8080/"
        },
        "id": "eXiL9r0Klo3t",
        "outputId": "f68798e2-101f-4d7f-b623-e95e36a93f61"
      },
      "execution_count": null,
      "outputs": [
        {
          "output_type": "stream",
          "name": "stdout",
          "text": [
            "75.0㎠\n"
          ]
        }
      ]
    },
    {
      "cell_type": "code",
      "source": [],
      "metadata": {
        "id": "VW1CX_aR9dcm"
      },
      "execution_count": null,
      "outputs": []
    }
  ]
}